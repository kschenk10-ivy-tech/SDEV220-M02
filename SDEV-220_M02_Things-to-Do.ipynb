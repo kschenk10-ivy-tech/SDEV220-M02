{
 "cells": [
  {
   "cell_type": "markdown",
   "metadata": {},
   "source": [
    "Khristin Schenk<br>\n",
    "SDEV-220<br>\n",
    "Module 2 Programming Assignment - Loops and Conditionals<br>\n",
    "Things to Do: 4.1, 4.2, 6.1, 6.2 & 6.3"
   ]
  },
  {
   "cell_type": "markdown",
   "metadata": {},
   "source": [
    "## 4.1<br>\n",
    "Choose a number between 1 and 10 and assign it to the variable secret. Then, select another number between 1 and 10 and assign it to the variable guess. Next, write the conditional tests (if, else, and elif) to print the string 'too low' if guess is less than secret, 'too high' if greater than secret, and 'just right' if equal to secret."
   ]
  },
  {
   "cell_type": "code",
   "execution_count": 4,
   "metadata": {},
   "outputs": [
    {
     "name": "stdout",
     "output_type": "stream",
     "text": [
      "too high\n"
     ]
    }
   ],
   "source": [
    "# Choose a secret number between 1 and 10\n",
    "secret = 8\n",
    "\n",
    "# Choose another guess number between 1 and 10\n",
    "guess = 10\n",
    "\n",
    "# Conditional checks for the guess\n",
    "if guess < secret:\n",
    "    print(\"too low\")\n",
    "elif guess > secret:\n",
    "    print(\"too high\")\n",
    "else:\n",
    "    print(\"just right\")"
   ]
  },
  {
   "cell_type": "markdown",
   "metadata": {},
   "source": [
    "## 4.2<br>\n",
    "Assign True or False to the variables small and green. Write some if/else statements to print which of these matches those choices: cherry, pea, watermelon, pumpkin."
   ]
  },
  {
   "cell_type": "code",
   "execution_count": 5,
   "metadata": {},
   "outputs": [
    {
     "name": "stdout",
     "output_type": "stream",
     "text": [
      "pea\n"
     ]
    }
   ],
   "source": [
    "# Assign True or False to the variables small and green\n",
    "small = True  # Change this based on the object size\n",
    "green = True  # Change this based on the color of the object\n",
    "\n",
    "# Checking the combination of small and green to identify the object\n",
    "if small and green:\n",
    "    print(\"pea\")\n",
    "elif not small and green:\n",
    "    print(\"watermelon\")\n",
    "elif small and not green:\n",
    "    print(\"cherry\")\n",
    "else:\n",
    "    print(\"pumpkin\")"
   ]
  },
  {
   "cell_type": "markdown",
   "metadata": {},
   "source": [
    "## 6.1<br>\n",
    "Use a for loop to print the values of the list [3, 2, 1, 0]."
   ]
  },
  {
   "cell_type": "code",
   "execution_count": 6,
   "metadata": {},
   "outputs": [
    {
     "name": "stdout",
     "output_type": "stream",
     "text": [
      "3\n",
      "2\n",
      "1\n",
      "0\n"
     ]
    }
   ],
   "source": [
    "# The for loop iterates over each element in the list numbers.\n",
    "# In each iteration, the variable number takes the value of the current element in the list and prints it.\n",
    "\n",
    "# List of values\n",
    "numbers = [3, 2, 1, 0]\n",
    "\n",
    "# For loop to print each value in the list\n",
    "for number in numbers:\n",
    "    print(number)"
   ]
  },
  {
   "cell_type": "markdown",
   "metadata": {},
   "source": [
    "## 6.2<br>\n",
    "Assign the value 7 to the variable guess_me, and the value 1 to the variable number. Write a while loop that compares number with guess_me. Print 'too low' if number is less than guess me. If number equals guess_me, print 'found it!' and then exit the loop. If number is greater than guess_me, print 'oops' and then exit the loop. Increment number at the end of the loop."
   ]
  },
  {
   "cell_type": "code",
   "execution_count": 7,
   "metadata": {},
   "outputs": [
    {
     "name": "stdout",
     "output_type": "stream",
     "text": [
      "too low\n",
      "too low\n",
      "too low\n",
      "too low\n",
      "too low\n",
      "too low\n",
      "found it!\n"
     ]
    }
   ],
   "source": [
    "# Assign values to variables\n",
    "guess_me = 7\n",
    "number = 1\n",
    "\n",
    "# While loop to compare number with guess_me\n",
    "while True:\n",
    "    if number < guess_me:\n",
    "        print(\"too low\")\n",
    "    elif number == guess_me:\n",
    "        print(\"found it!\")\n",
    "        break  # Exit the loop when found\n",
    "    else:\n",
    "        print(\"oops\")\n",
    "        break  # Exit the loop when number is greater than guess_me\n",
    "    \n",
    "    # Increment number at the end of the loop\n",
    "    number += 1"
   ]
  },
  {
   "cell_type": "markdown",
   "metadata": {},
   "source": [
    "## 6.3<br>\n",
    "Assign the value 5 to the variable guess_me. Use a for loop to iterate a variable called number over range(10). If number is less than guess_me, print 'too low'. If it equals guess_me, print found it! and then break out of the for loop. If number is greater than guess_me, print 'oops' and then exit the loop."
   ]
  },
  {
   "cell_type": "code",
   "execution_count": 8,
   "metadata": {},
   "outputs": [
    {
     "name": "stdout",
     "output_type": "stream",
     "text": [
      "too low\n",
      "too low\n",
      "too low\n",
      "too low\n",
      "too low\n",
      "found it!\n"
     ]
    }
   ],
   "source": [
    "# Assign value to guess_me\n",
    "guess_me = 5\n",
    "\n",
    "# For loop to iterate number over range(10)\n",
    "for number in range(10):\n",
    "    if number < guess_me:\n",
    "        print(\"too low\")\n",
    "    elif number == guess_me:\n",
    "        print(\"found it!\")\n",
    "        break  # Exit the loop when found\n",
    "    else:\n",
    "        print(\"oops\")\n",
    "        break  # Exit the loop when number is greater than guess_me"
   ]
  },
  {
   "cell_type": "markdown",
   "metadata": {},
   "source": [
    "Notes:\n",
    "4.1 Program: secret is the number you select as the target number.\n",
    "guess is the number the user guesses.\n",
    "Based on whether guess is lower than, greater than, or equal to secret, a different message is printed.\n",
    "\n",
    "4.2 Program: small and green are boolean variables that define the size and color of the object.\n",
    "Using a series of if/elif/else statements, the program determines which object matches the given conditions:\n",
    "If both small and green are True, it prints \"pea\".\n",
    "If small is False and green is True, it prints \"watermelon\".\n",
    "If small is True and green is False, it prints \"cherry\".\n",
    "Otherwise, it prints \"pumpkin\".\n",
    "\n",
    "6.1 Program: The for loop iterates over each element in the list numbers.\n",
    "In each iteration, the variable number takes the value of the current element in the list and prints it.\n",
    "\n",
    "6.2 Program: guess_me is set to 7, and number starts at 1.\n",
    "The while loop keeps running as long as number is compared to guess_me.\n",
    "Depending on the comparison, it prints:\n",
    "\"too low\" if number is less than guess_me.\n",
    "\"found it!\" if number equals guess_me (and exits the loop).\n",
    "\"oops\" if number is greater than guess_me (and exits the loop).\n",
    "The loop increments number by 1 on each iteration.\n",
    "\n",
    "6.3 Program: guess_me is set to 5.\n",
    "The for loop iterates over the range of numbers from 0 to 9 (since range(10) generates numbers 0 through 9).\n",
    "Depending on the comparison, it prints:\n",
    "\"too low\" if number is less than guess_me.\n",
    "\"found it!\" if number equals guess_me (and exits the loop).\n",
    "\"oops\" if number is greater than guess_me (and exits the loop)."
   ]
  }
 ],
 "metadata": {
  "kernelspec": {
   "display_name": "Python 3",
   "language": "python",
   "name": "python3"
  },
  "language_info": {
   "codemirror_mode": {
    "name": "ipython",
    "version": 3
   },
   "file_extension": ".py",
   "mimetype": "text/x-python",
   "name": "python",
   "nbconvert_exporter": "python",
   "pygments_lexer": "ipython3",
   "version": "3.13.1"
  }
 },
 "nbformat": 4,
 "nbformat_minor": 4
}

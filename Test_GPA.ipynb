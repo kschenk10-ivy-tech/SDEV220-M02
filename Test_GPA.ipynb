{
 "cells": [
  {
   "cell_type": "markdown",
   "metadata": {},
   "source": [
    "Khristin Schenk<br>\n",
    "GPA Tester (File Name: TestGPA.ipynba)<br>\n",
    "This program allows the user to input student names and GPAs, then checks if the student qualifies for the Dean's List or Honor Roll.\n",
    "A student qualifies for the Dean's List if their GPA is 3.5 or higher, and for the Honor Roll if their GPA is between 3.25 and 3.49.\n",
    "The program continues processing students until 'ZZZ' is entered as the last name."
   ]
  },
  {
   "cell_type": "code",
   "execution_count": 1,
   "metadata": {},
   "outputs": [
    {
     "name": "stdout",
     "output_type": "stream",
     "text": [
      "Khristin Schenk has made the Honor Roll!\n",
      "Yellow Ducky has made the Dean's List!\n",
      "Black Cat has made the Dean's List!\n",
      "Fiji Water did not qualify for the Dean's List or Honor Roll.\n",
      "Alarm Clock did not qualify for the Dean's List or Honor Roll.\n",
      "Exiting the program.\n"
     ]
    }
   ],
   "source": [
    "while True:\n",
    "    # Ask for the student's last name\n",
    "    last_name = input(\"Enter student's last name (or 'ZZZ' to quit): \")\n",
    "\n",
    "    # Quit the program if the last name is 'ZZZ'\n",
    "    if last_name == 'ZZZ':\n",
    "        print(\"Exiting the program.\")\n",
    "        break\n",
    "\n",
    "    # Ask for the student's first name\n",
    "    first_name = input(\"Enter student's first name: \")\n",
    "\n",
    "    # Ask for the student's GPA\n",
    "    try:\n",
    "        gpa = float(input(\"Enter student's GPA: \"))\n",
    "    except ValueError:\n",
    "        print(\"Invalid GPA input. Please enter a numeric value.\")\n",
    "        continue\n",
    "\n",
    "    # Check if the student qualifies for the Dean's List or Honor Roll\n",
    "    if gpa >= 3.5:\n",
    "        print(f\"{first_name} {last_name} has made the Dean's List!\")\n",
    "    elif gpa >= 3.25:\n",
    "        print(f\"{first_name} {last_name} has made the Honor Roll!\")\n",
    "    else:\n",
    "        print(f\"{first_name} {last_name} did not qualify for the Dean's List or Honor Roll.\")"
   ]
  }
 ],
 "metadata": {
  "kernelspec": {
   "display_name": "Python 3",
   "language": "python",
   "name": "python3"
  },
  "language_info": {
   "codemirror_mode": {
    "name": "ipython",
    "version": 3
   },
   "file_extension": ".py",
   "mimetype": "text/x-python",
   "name": "python",
   "nbconvert_exporter": "python",
   "pygments_lexer": "ipython3",
   "version": "3.13.1"
  }
 },
 "nbformat": 4,
 "nbformat_minor": 4
}
